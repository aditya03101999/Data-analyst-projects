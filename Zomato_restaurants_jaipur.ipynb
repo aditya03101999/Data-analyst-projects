{
 "cells": [
  {
   "cell_type": "markdown",
   "id": "54b01598",
   "metadata": {},
   "source": [
    "## Importing Libraries"
   ]
  },
  {
   "cell_type": "code",
   "execution_count": 170,
   "id": "fb063fcf",
   "metadata": {},
   "outputs": [],
   "source": [
    "from selenium import webdriver\n",
    "from selenium.webdriver.common.by import By\n",
    "import pandas as pd"
   ]
  },
  {
   "cell_type": "code",
   "execution_count": 2,
   "id": "2832b02d",
   "metadata": {},
   "outputs": [],
   "source": [
    "website = 'https://www.zomato.com/jaipur'\n",
    "path = \"C:\\\\Users\\\\hp\\\\Downloads\\\\chromedriver\""
   ]
  },
  {
   "cell_type": "markdown",
   "id": "1cb70b86",
   "metadata": {},
   "source": [
    "## Connecting Chrome page"
   ]
  },
  {
   "cell_type": "code",
   "execution_count": 135,
   "id": "44352ea1",
   "metadata": {},
   "outputs": [
    {
     "name": "stderr",
     "output_type": "stream",
     "text": [
      "C:\\Users\\hp\\AppData\\Local\\Temp\\ipykernel_6272\\2107036205.py:1: DeprecationWarning: executable_path has been deprecated, please pass in a Service object\n",
      "  driver = webdriver.Chrome(path)\n"
     ]
    }
   ],
   "source": [
    "driver = webdriver.Chrome(path)"
   ]
  },
  {
   "cell_type": "code",
   "execution_count": 136,
   "id": "9839e44a",
   "metadata": {},
   "outputs": [],
   "source": [
    "driver.get(website)"
   ]
  },
  {
   "cell_type": "markdown",
   "id": "77b656dc",
   "metadata": {},
   "source": [
    "## Finding Name of Restaurant"
   ]
  },
  {
   "cell_type": "code",
   "execution_count": 151,
   "id": "d325c3fd",
   "metadata": {},
   "outputs": [],
   "source": [
    "info = driver.find_elements(By.TAG_NAME, 'h4')"
   ]
  },
  {
   "cell_type": "code",
   "execution_count": 152,
   "id": "0e9729b1",
   "metadata": {},
   "outputs": [],
   "source": [
    "name=[]\n",
    "for i in info:\n",
    "    name.append(i.text)"
   ]
  },
  {
   "cell_type": "markdown",
   "id": "b381f227",
   "metadata": {},
   "source": [
    "## Finding Category of Food serve"
   ]
  },
  {
   "cell_type": "code",
   "execution_count": 155,
   "id": "c05063a7",
   "metadata": {},
   "outputs": [],
   "source": [
    "row = driver.find_elements(By.XPATH,'//*[@id=\"root\"]/div/div/div/div/div/div/a[2]/div[2]/p[1]')"
   ]
  },
  {
   "cell_type": "code",
   "execution_count": 156,
   "id": "855b12e8",
   "metadata": {},
   "outputs": [],
   "source": [
    "category = []\n",
    "for i in row:\n",
    "    category.append(i.text)"
   ]
  },
  {
   "cell_type": "markdown",
   "id": "411e5d88",
   "metadata": {},
   "source": [
    "## Finding Average Ratings given by customers"
   ]
  },
  {
   "cell_type": "code",
   "execution_count": 157,
   "id": "79d2f88b",
   "metadata": {},
   "outputs": [],
   "source": [
    "rating = driver.find_elements(By.XPATH,'//*[@id=\"root\"]/div/div/div/div/div/div/a[2]/div[1]/div/div/div/div/div/div[1]')"
   ]
  },
  {
   "cell_type": "code",
   "execution_count": 158,
   "id": "7dab94ed",
   "metadata": {},
   "outputs": [],
   "source": [
    "ratings=[]\n",
    "for i in rating:\n",
    "    ratings.append(i.text)"
   ]
  },
  {
   "cell_type": "markdown",
   "id": "1f423abf",
   "metadata": {},
   "source": [
    "## Finding Price per person"
   ]
  },
  {
   "cell_type": "code",
   "execution_count": 159,
   "id": "1c087335",
   "metadata": {},
   "outputs": [],
   "source": [
    "price = driver.find_elements(By.XPATH ,'//*[@id=\"root\"]/div/div/div/div/div/div/a[2]/div[2]/p[2]')"
   ]
  },
  {
   "cell_type": "code",
   "execution_count": 160,
   "id": "850f771e",
   "metadata": {},
   "outputs": [],
   "source": [
    "charges = []\n",
    "for p in price:\n",
    "    charges.append(p.text)"
   ]
  },
  {
   "cell_type": "markdown",
   "id": "6b827e59",
   "metadata": {},
   "source": [
    "## Getting address of restaurant"
   ]
  },
  {
   "cell_type": "code",
   "execution_count": 74,
   "id": "5b17cd37",
   "metadata": {},
   "outputs": [],
   "source": [
    "land = driver.find_elements(By.XPATH,'//*[@id=\"root\"]/div/div/div/div/div/div/a[2]')"
   ]
  },
  {
   "cell_type": "code",
   "execution_count": 75,
   "id": "c68d97f1",
   "metadata": {},
   "outputs": [],
   "source": [
    "s=[]\n",
    "for i in land:\n",
    "    s.append(i.get_attribute('href'))"
   ]
  },
  {
   "cell_type": "code",
   "execution_count": 105,
   "id": "4221b341",
   "metadata": {},
   "outputs": [
    {
     "name": "stderr",
     "output_type": "stream",
     "text": [
      "C:\\Users\\hp\\AppData\\Local\\Temp\\ipykernel_6272\\3052680369.py:1: DeprecationWarning: executable_path has been deprecated, please pass in a Service object\n",
      "  dtwo = webdriver.Chrome(path)\n"
     ]
    }
   ],
   "source": [
    "dtwo = webdriver.Chrome(path)"
   ]
  },
  {
   "cell_type": "code",
   "execution_count": 116,
   "id": "050905f2",
   "metadata": {},
   "outputs": [],
   "source": [
    "l=[]\n",
    "for i in s:\n",
    "    dtwo.get(i)\n",
    "    a=dtwo.find_elements(By.XPATH,'//*[@id=\"root\"]/div/main/div/section[3]/section/section/div/div/section[1]/a')\n",
    "    l.append(a[0].text)\n",
    "    "
   ]
  },
  {
   "cell_type": "markdown",
   "id": "20bd3ca9",
   "metadata": {},
   "source": [
    "## Combining all the details in a dataframe"
   ]
  },
  {
   "cell_type": "code",
   "execution_count": 162,
   "id": "3108c450",
   "metadata": {},
   "outputs": [],
   "source": [
    "df=pd.DataFrame({'Restaurant_name':name,'Food_category':category,'Average_rating':ratings,'Price':charges,'Address':l})"
   ]
  },
  {
   "cell_type": "code",
   "execution_count": 167,
   "id": "117baf55",
   "metadata": {},
   "outputs": [
    {
     "data": {
      "text/html": [
       "<div>\n",
       "<style scoped>\n",
       "    .dataframe tbody tr th:only-of-type {\n",
       "        vertical-align: middle;\n",
       "    }\n",
       "\n",
       "    .dataframe tbody tr th {\n",
       "        vertical-align: top;\n",
       "    }\n",
       "\n",
       "    .dataframe thead th {\n",
       "        text-align: right;\n",
       "    }\n",
       "</style>\n",
       "<table border=\"1\" class=\"dataframe\">\n",
       "  <thead>\n",
       "    <tr style=\"text-align: right;\">\n",
       "      <th></th>\n",
       "      <th>Restaurant_name</th>\n",
       "      <th>Food_category</th>\n",
       "      <th>Average_rating</th>\n",
       "      <th>Price</th>\n",
       "      <th>Address</th>\n",
       "    </tr>\n",
       "  </thead>\n",
       "  <tbody>\n",
       "    <tr>\n",
       "      <th>0</th>\n",
       "      <td>Old Take Away - The Kabab Shop</td>\n",
       "      <td>North Indian, Mughlai, Rolls</td>\n",
       "      <td>4.0</td>\n",
       "      <td>₹300 for one</td>\n",
       "      <td>MI Road, Jaipur</td>\n",
       "    </tr>\n",
       "    <tr>\n",
       "      <th>1</th>\n",
       "      <td>Kanha</td>\n",
       "      <td>Mithai, Street Food, North Indian, South India...</td>\n",
       "      <td>4.2</td>\n",
       "      <td>₹300 for one</td>\n",
       "      <td>Shastri Nagar, Jaipur</td>\n",
       "    </tr>\n",
       "    <tr>\n",
       "      <th>2</th>\n",
       "      <td>The Pizza Unlimited</td>\n",
       "      <td>Pizza, Sandwich, Rolls, Fast Food, Street Food...</td>\n",
       "      <td>3.9</td>\n",
       "      <td>₹300 for one</td>\n",
       "      <td>Gopalpura, Jaipur</td>\n",
       "    </tr>\n",
       "    <tr>\n",
       "      <th>3</th>\n",
       "      <td>Momotoko</td>\n",
       "      <td>Momos, Chinese</td>\n",
       "      <td>New</td>\n",
       "      <td>₹300 for one</td>\n",
       "      <td>C Scheme, Jaipur</td>\n",
       "    </tr>\n",
       "    <tr>\n",
       "      <th>4</th>\n",
       "      <td>McDonald's</td>\n",
       "      <td>Burger, Fast Food, Beverages</td>\n",
       "      <td>4.1</td>\n",
       "      <td>₹300 for one</td>\n",
       "      <td>Mansarovar, Jaipur</td>\n",
       "    </tr>\n",
       "    <tr>\n",
       "      <th>...</th>\n",
       "      <td>...</td>\n",
       "      <td>...</td>\n",
       "      <td>...</td>\n",
       "      <td>...</td>\n",
       "      <td>...</td>\n",
       "    </tr>\n",
       "    <tr>\n",
       "      <th>76</th>\n",
       "      <td>Natural Ice Cream</td>\n",
       "      <td>Ice Cream, Desserts</td>\n",
       "      <td>4.5</td>\n",
       "      <td>₹200 for one</td>\n",
       "      <td>Khatipura Road, Jaipur</td>\n",
       "    </tr>\n",
       "    <tr>\n",
       "      <th>77</th>\n",
       "      <td>Mughal Hotel</td>\n",
       "      <td>North Indian, Mughlai</td>\n",
       "      <td>3.9</td>\n",
       "      <td>₹200 for one</td>\n",
       "      <td>Vaishali Nagar, Jaipur</td>\n",
       "    </tr>\n",
       "    <tr>\n",
       "      <th>78</th>\n",
       "      <td>Sai Chaap Soya</td>\n",
       "      <td>Fast Food, Rolls, North Indian</td>\n",
       "      <td>3.6</td>\n",
       "      <td>₹200 for one</td>\n",
       "      <td>Shyam Nagar, Jaipur</td>\n",
       "    </tr>\n",
       "    <tr>\n",
       "      <th>79</th>\n",
       "      <td>Tadka Lali Ka Vaishno Dhaba</td>\n",
       "      <td>North Indian, Chinese</td>\n",
       "      <td>4.2</td>\n",
       "      <td>₹200 for one</td>\n",
       "      <td>Sodala, Jaipur</td>\n",
       "    </tr>\n",
       "    <tr>\n",
       "      <th>80</th>\n",
       "      <td>M M Khan Hotel</td>\n",
       "      <td>North Indian, Mughlai, Biryani, Momos, Roast C...</td>\n",
       "      <td>3.8</td>\n",
       "      <td>₹200 for one</td>\n",
       "      <td>Sindhi Camp, Jaipur</td>\n",
       "    </tr>\n",
       "  </tbody>\n",
       "</table>\n",
       "<p>81 rows × 5 columns</p>\n",
       "</div>"
      ],
      "text/plain": [
       "                   Restaurant_name  \\\n",
       "0   Old Take Away - The Kabab Shop   \n",
       "1                            Kanha   \n",
       "2              The Pizza Unlimited   \n",
       "3                         Momotoko   \n",
       "4                       McDonald's   \n",
       "..                             ...   \n",
       "76               Natural Ice Cream   \n",
       "77                    Mughal Hotel   \n",
       "78                  Sai Chaap Soya   \n",
       "79     Tadka Lali Ka Vaishno Dhaba   \n",
       "80                  M M Khan Hotel   \n",
       "\n",
       "                                        Food_category Average_rating  \\\n",
       "0                        North Indian, Mughlai, Rolls            4.0   \n",
       "1   Mithai, Street Food, North Indian, South India...            4.2   \n",
       "2   Pizza, Sandwich, Rolls, Fast Food, Street Food...            3.9   \n",
       "3                                      Momos, Chinese            New   \n",
       "4                        Burger, Fast Food, Beverages            4.1   \n",
       "..                                                ...            ...   \n",
       "76                                Ice Cream, Desserts            4.5   \n",
       "77                              North Indian, Mughlai            3.9   \n",
       "78                     Fast Food, Rolls, North Indian            3.6   \n",
       "79                              North Indian, Chinese            4.2   \n",
       "80  North Indian, Mughlai, Biryani, Momos, Roast C...            3.8   \n",
       "\n",
       "           Price                 Address  \n",
       "0   ₹300 for one         MI Road, Jaipur  \n",
       "1   ₹300 for one   Shastri Nagar, Jaipur  \n",
       "2   ₹300 for one       Gopalpura, Jaipur  \n",
       "3   ₹300 for one        C Scheme, Jaipur  \n",
       "4   ₹300 for one      Mansarovar, Jaipur  \n",
       "..           ...                     ...  \n",
       "76  ₹200 for one  Khatipura Road, Jaipur  \n",
       "77  ₹200 for one  Vaishali Nagar, Jaipur  \n",
       "78  ₹200 for one     Shyam Nagar, Jaipur  \n",
       "79  ₹200 for one          Sodala, Jaipur  \n",
       "80  ₹200 for one     Sindhi Camp, Jaipur  \n",
       "\n",
       "[81 rows x 5 columns]"
      ]
     },
     "execution_count": 167,
     "metadata": {},
     "output_type": "execute_result"
    }
   ],
   "source": [
    "df"
   ]
  },
  {
   "cell_type": "markdown",
   "id": "ff553045",
   "metadata": {},
   "source": [
    "## Saving dataframe into csv file"
   ]
  },
  {
   "cell_type": "code",
   "execution_count": 168,
   "id": "68b32940",
   "metadata": {},
   "outputs": [],
   "source": [
    "df.to_csv('Zomato_jaipur.csv')"
   ]
  },
  {
   "cell_type": "code",
   "execution_count": null,
   "id": "a5f3b99e",
   "metadata": {},
   "outputs": [],
   "source": []
  }
 ],
 "metadata": {
  "kernelspec": {
   "display_name": "Python 3 (ipykernel)",
   "language": "python",
   "name": "python3"
  },
  "language_info": {
   "codemirror_mode": {
    "name": "ipython",
    "version": 3
   },
   "file_extension": ".py",
   "mimetype": "text/x-python",
   "name": "python",
   "nbconvert_exporter": "python",
   "pygments_lexer": "ipython3",
   "version": "3.9.12"
  }
 },
 "nbformat": 4,
 "nbformat_minor": 5
}
